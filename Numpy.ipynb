{
 "cells": [
  {
   "cell_type": "code",
   "execution_count": 32,
   "metadata": {},
   "outputs": [
    {
     "data": {
      "text/plain": [
       "array([1, 2, 3, 4, 5])"
      ]
     },
     "metadata": {},
     "output_type": "display_data"
    },
    {
     "data": {
      "text/plain": [
       "array([[[1, 2, 3],\n",
       "        [4, 5, 6]]])"
      ]
     },
     "metadata": {},
     "output_type": "display_data"
    },
    {
     "data": {
      "text/plain": [
       "array([[1, 2, 3],\n",
       "       [1, 2, 3],\n",
       "       [3, 4, 2]])"
      ]
     },
     "metadata": {},
     "output_type": "display_data"
    },
    {
     "data": {
      "text/plain": [
       "dtype('int32')"
      ]
     },
     "metadata": {},
     "output_type": "display_data"
    },
    {
     "data": {
      "text/plain": [
       "dtype('int32')"
      ]
     },
     "metadata": {},
     "output_type": "display_data"
    },
    {
     "data": {
      "text/plain": [
       "dtype('int64')"
      ]
     },
     "metadata": {},
     "output_type": "display_data"
    },
    {
     "data": {
      "text/plain": [
       "dtype('float32')"
      ]
     },
     "metadata": {},
     "output_type": "display_data"
    },
    {
     "data": {
      "text/plain": [
       "dtype('float64')"
      ]
     },
     "metadata": {},
     "output_type": "display_data"
    },
    {
     "name": "stdout",
     "output_type": "stream",
     "text": [
      "array.size : 6\n",
      "array.shape : (2, 3)\n",
      "array.ndim : 2\n"
     ]
    },
    {
     "data": {
      "text/plain": [
       "array([0., 0., 0.])"
      ]
     },
     "metadata": {},
     "output_type": "display_data"
    },
    {
     "name": "stdout",
     "output_type": "stream",
     "text": [
      "zeros_array.ndim : 1\n"
     ]
    },
    {
     "data": {
      "text/plain": [
       "array([[0., 0., 0.],\n",
       "       [0., 0., 0.],\n",
       "       [0., 0., 0.]])"
      ]
     },
     "metadata": {},
     "output_type": "display_data"
    },
    {
     "name": "stdout",
     "output_type": "stream",
     "text": [
      "zeros_array.ndim : 2\n"
     ]
    },
    {
     "data": {
      "text/plain": [
       "array([[[0., 0., 0.],\n",
       "        [0., 0., 0.],\n",
       "        [0., 0., 0.]],\n",
       "\n",
       "       [[0., 0., 0.],\n",
       "        [0., 0., 0.],\n",
       "        [0., 0., 0.]],\n",
       "\n",
       "       [[0., 0., 0.],\n",
       "        [0., 0., 0.],\n",
       "        [0., 0., 0.]]])"
      ]
     },
     "metadata": {},
     "output_type": "display_data"
    },
    {
     "data": {
      "text/plain": [
       "array([[[1., 1.],\n",
       "        [1., 1.]],\n",
       "\n",
       "       [[1., 1.],\n",
       "        [1., 1.]]])"
      ]
     },
     "metadata": {},
     "output_type": "display_data"
    },
    {
     "data": {
      "text/plain": [
       "array([[10, 10, 10, 10],\n",
       "       [10, 10, 10, 10],\n",
       "       [10, 10, 10, 10],\n",
       "       [10, 10, 10, 10]])"
      ]
     },
     "metadata": {},
     "output_type": "display_data"
    },
    {
     "data": {
      "text/plain": [
       "array([[1., 0., 0.],\n",
       "       [0., 1., 0.],\n",
       "       [0., 0., 1.]])"
      ]
     },
     "metadata": {},
     "output_type": "display_data"
    }
   ],
   "source": [
    "import numpy as np\n",
    "np.array([1,2,3,4,5])\n",
    "\n",
    "arr1d = np.array([1,2,3,4,5])\n",
    "display(arr1d)\n",
    "\n",
    "arr2d = np.array([[\n",
    "        [1,2,3,],\n",
    "        [4,5,6,]\n",
    "]])\n",
    "\n",
    "display(arr2d)\n",
    "\n",
    "arr3d = np.array([\n",
    "    [1,2,3],\n",
    "    [1,2,3],\n",
    "    [3,4,2]\n",
    "])\n",
    "\n",
    "display(arr3d, arr3d.dtype)\n",
    "\n",
    "array = np.array([[1,2,3],[4,5,6]])\n",
    "display(array.dtype)\n",
    "\n",
    "array = np.array([[1,2,3],[4,5,6]], dtype=np.int64)\n",
    "display(array.dtype)\n",
    "\n",
    "array = np.array([[1,2,3],[4,5,6]], dtype = np.float32)\n",
    "display(array.dtype)\n",
    "\n",
    "array = np.array([[1,2,3],[4,5,6]],dtype=float)\n",
    "display(array.dtype)\n",
    "\n",
    "print(f\"array.size : {array.size}\")\n",
    "print(f\"array.shape : {array.shape}\")\n",
    "print(f\"array.ndim : {array.ndim}\")\n",
    "\n",
    "zeros_array = np.zeros((3))\n",
    "display(zeros_array)\n",
    "print(f\"zeros_array.ndim : {zeros_array.ndim}\")\n",
    "\n",
    "zeros_array = np.zeros((3,3))\n",
    "display(zeros_array)\n",
    "print(f\"zeros_array.ndim : {zeros_array.ndim}\")\n",
    "\n",
    "zeros_array = np.zeros((3,3,3))\n",
    "display(zeros_array)\n",
    "\n",
    "array = np.ones((2,2,2))\n",
    "display(array)\n",
    "\n",
    "full_array = np.full((4,4),10)\n",
    "display(full_array)\n",
    "\n",
    "eye_array = np.eye(3)\n",
    "display(eye_array)"
   ]
  },
  {
   "cell_type": "code",
   "execution_count": 53,
   "metadata": {},
   "outputs": [
    {
     "data": {
      "text/plain": [
       "array([ 0,  1,  2,  3,  4,  5,  6,  7,  8,  9, 10, 11, 12, 13, 14, 15, 16,\n",
       "       17, 18, 19, 20, 21, 22, 23, 24, 25, 26, 27, 28, 29, 30, 31, 32, 33,\n",
       "       34, 35, 36, 37, 38, 39, 40, 41, 42, 43, 44, 45, 46, 47, 48, 49, 50,\n",
       "       51, 52, 53, 54, 55, 56, 57, 58, 59, 60, 61, 62, 63, 64, 65, 66, 67,\n",
       "       68, 69, 70, 71, 72, 73, 74, 75, 76, 77, 78, 79, 80, 81, 82, 83, 84,\n",
       "       85, 86, 87, 88, 89, 90, 91, 92, 93, 94, 95, 96, 97, 98, 99])"
      ]
     },
     "metadata": {},
     "output_type": "display_data"
    },
    {
     "data": {
      "text/plain": [
       "array([1, 3, 5, 7, 9])"
      ]
     },
     "metadata": {},
     "output_type": "display_data"
    }
   ],
   "source": [
    "display(np.array(range(100)))\n",
    "\n",
    "display(np.array(range(1,10,2)))"
   ]
  },
  {
   "cell_type": "markdown",
   "metadata": {},
   "source": [
    "## 인덱싱, 슬라이싱"
   ]
  },
  {
   "cell_type": "code",
   "execution_count": 47,
   "metadata": {},
   "outputs": [
    {
     "data": {
      "text/plain": [
       "array([ 5, 10, 15, 20, 25])"
      ]
     },
     "metadata": {},
     "output_type": "display_data"
    },
    {
     "name": "stdout",
     "output_type": "stream",
     "text": [
      "5\n",
      "10\n",
      "25\n",
      "20\n"
     ]
    },
    {
     "data": {
      "text/plain": [
       "array([[1, 2, 3],\n",
       "       [4, 5, 6],\n",
       "       [7, 8, 9]])"
      ]
     },
     "metadata": {},
     "output_type": "display_data"
    },
    {
     "data": {
      "text/plain": [
       "2"
      ]
     },
     "metadata": {},
     "output_type": "display_data"
    },
    {
     "data": {
      "text/plain": [
       "array([4, 5, 6])"
      ]
     },
     "metadata": {},
     "output_type": "display_data"
    },
    {
     "data": {
      "text/plain": [
       "array([3, 6, 9])"
      ]
     },
     "metadata": {},
     "output_type": "display_data"
    },
    {
     "data": {
      "text/plain": [
       "array([[[1, 2],\n",
       "        [3, 4],\n",
       "        [5, 6],\n",
       "        [7, 8]]])"
      ]
     },
     "metadata": {},
     "output_type": "display_data"
    },
    {
     "data": {
      "text/plain": [
       "'arr3.ndim : 3'"
      ]
     },
     "metadata": {},
     "output_type": "display_data"
    },
    {
     "data": {
      "text/plain": [
       "array([2, 3, 4])"
      ]
     },
     "metadata": {},
     "output_type": "display_data"
    },
    {
     "data": {
      "text/plain": [
       "array([[0, 1, 2],\n",
       "       [3, 4, 5],\n",
       "       [6, 7, 8]])"
      ]
     },
     "metadata": {},
     "output_type": "display_data"
    },
    {
     "data": {
      "text/plain": [
       "array([[0, 1],\n",
       "       [3, 4]])"
      ]
     },
     "metadata": {},
     "output_type": "display_data"
    },
    {
     "data": {
      "text/plain": [
       "array([[0, 1],\n",
       "       [3, 4]])"
      ]
     },
     "metadata": {},
     "output_type": "display_data"
    },
    {
     "data": {
      "text/plain": [
       "array([[[0, 1, 2],\n",
       "        [3, 4, 5],\n",
       "        [6, 7, 8]]])"
      ]
     },
     "metadata": {},
     "output_type": "display_data"
    }
   ],
   "source": [
    "arr1 = np.array([5,10,15,20,25])\n",
    "display(arr1)\n",
    "print(arr1[0])\n",
    "print(arr1[1])\n",
    "print(arr1[-1])\n",
    "print(arr1[-2])\n",
    "\n",
    "arr2 = np.array([[1,2,3],\n",
    "                 [4,5,6],\n",
    "                 [7,8,9]])\n",
    "display(arr2)\n",
    "display(arr2[0,1])\n",
    "display(arr2[1])\n",
    "display(arr2[:,2])\n",
    "\n",
    "arr3 = np.array([\n",
    "                [[1,2],[3,4],[5,6],[7,8]]\n",
    "                  ])\n",
    "display(arr3)\n",
    "display(f\"arr3.ndim : {arr3.ndim}\")\n",
    "\n",
    "arr1 = np.array([0,1,2,3,4,5,6,7,8,9])\n",
    "display(arr1[2:5])\n",
    "\n",
    "arr2 = np.array([ [0,1,2], [3,4,5], [6,7,8] ])\n",
    "display(arr2)\n",
    "display(arr2[0:2, 0:2])\n",
    "display(arr2[:2, :2])\n",
    "\n",
    "\n",
    "arr3 = np.array([[ [0,1,2], [3,4,5], [6,7,8] ] ])\n",
    "display(arr3)\n",
    "\n"
   ]
  },
  {
   "cell_type": "markdown",
   "metadata": {},
   "source": [
    "## 기본 연산"
   ]
  },
  {
   "cell_type": "code",
   "execution_count": 69,
   "metadata": {},
   "outputs": [
    {
     "data": {
      "text/plain": [
       "array([5, 7, 9])"
      ]
     },
     "metadata": {},
     "output_type": "display_data"
    },
    {
     "data": {
      "text/plain": [
       "array([-3, -3, -3])"
      ]
     },
     "metadata": {},
     "output_type": "display_data"
    },
    {
     "data": {
      "text/plain": [
       "array([ 4, 10, 18])"
      ]
     },
     "metadata": {},
     "output_type": "display_data"
    },
    {
     "data": {
      "text/plain": [
       "array([  1,  32, 729])"
      ]
     },
     "metadata": {},
     "output_type": "display_data"
    },
    {
     "data": {
      "text/plain": [
       "array([0.25, 0.4 , 0.5 ])"
      ]
     },
     "metadata": {},
     "output_type": "display_data"
    },
    {
     "data": {
      "text/plain": [
       "array([0, 0, 0])"
      ]
     },
     "metadata": {},
     "output_type": "display_data"
    },
    {
     "data": {
      "text/plain": [
       "array([1, 2, 3])"
      ]
     },
     "metadata": {},
     "output_type": "display_data"
    },
    {
     "data": {
      "text/plain": [
       "'np.sum(arr1) : 6'"
      ]
     },
     "metadata": {},
     "output_type": "display_data"
    },
    {
     "data": {
      "text/plain": [
       "'arr1.sum() : 6'"
      ]
     },
     "metadata": {},
     "output_type": "display_data"
    },
    {
     "data": {
      "text/plain": [
       "'np.mean(arr1) : 2.0'"
      ]
     },
     "metadata": {},
     "output_type": "display_data"
    },
    {
     "data": {
      "text/plain": [
       "'arr1.mean() : 2.0'"
      ]
     },
     "metadata": {},
     "output_type": "display_data"
    },
    {
     "data": {
      "text/plain": [
       "'np.max(arr1) : 3'"
      ]
     },
     "metadata": {},
     "output_type": "display_data"
    },
    {
     "data": {
      "text/plain": [
       "'arr1.max() : 3'"
      ]
     },
     "metadata": {},
     "output_type": "display_data"
    },
    {
     "data": {
      "text/plain": [
       "'np.min(arr1) : 1'"
      ]
     },
     "metadata": {},
     "output_type": "display_data"
    },
    {
     "data": {
      "text/plain": [
       "'arr1.min() : 1'"
      ]
     },
     "metadata": {},
     "output_type": "display_data"
    },
    {
     "data": {
      "text/plain": [
       "'np.median(arr1) : 2.0'"
      ]
     },
     "metadata": {},
     "output_type": "display_data"
    },
    {
     "data": {
      "text/plain": [
       "'np.std(arr1) : 0.816496580927726'"
      ]
     },
     "metadata": {},
     "output_type": "display_data"
    },
    {
     "data": {
      "text/plain": [
       "'arr1.std() : 0.816496580927726'"
      ]
     },
     "metadata": {},
     "output_type": "display_data"
    },
    {
     "data": {
      "text/plain": [
       "'np.var(arr1) : 0.6666666666666666'"
      ]
     },
     "metadata": {},
     "output_type": "display_data"
    },
    {
     "data": {
      "text/plain": [
       "'arr1.var() : 0.6666666666666666'"
      ]
     },
     "metadata": {},
     "output_type": "display_data"
    },
    {
     "data": {
      "text/plain": [
       "'np.sum([1,1,2,3,4,5]) : 16'"
      ]
     },
     "metadata": {},
     "output_type": "display_data"
    },
    {
     "data": {
      "text/plain": [
       "'np.array([1.1.2.3.4.5]).sum() : 16'"
      ]
     },
     "metadata": {},
     "output_type": "display_data"
    }
   ],
   "source": [
    "arr1 = np.array([1,2,3])\n",
    "arr2 = np.array([4,5,6])\n",
    "\n",
    "display(arr1 + arr2)\n",
    "display(arr1 - arr2)\n",
    "display(arr1 * arr2)\n",
    "display(arr1 ** arr2)\n",
    "display(arr1 / arr2)\n",
    "display(arr1 // arr2)\n",
    "display(arr1 % arr2)\n",
    "\n",
    "display(f\"np.sum(arr1) : {np.sum(arr1)}\")\n",
    "display(f\"arr1.sum() : {arr1.sum()}\")\n",
    "\n",
    "display(f\"np.mean(arr1) : {np.mean(arr1)}\")\n",
    "display(f\"arr1.mean() : {arr1.mean()}\")\n",
    "\n",
    "display(f\"np.max(arr1) : {np.max(arr1)}\")\n",
    "display(f\"arr1.max() : {arr1.max()}\")\n",
    "\n",
    "display(f\"np.min(arr1) : {np.min(arr1)}\")\n",
    "display(f\"arr1.min() : {arr1.min()}\")\n",
    "\n",
    "display(f\"np.median(arr1) : {np.median(arr1)}\")\n",
    "\n",
    "display(f\"np.std(arr1) : {np.std(arr1)}\")\n",
    "display(f\"arr1.std() : {arr1.std()}\")\n",
    "\n",
    "display(f\"np.var(arr1) : {np.var(arr1)}\")\n",
    "display(f\"arr1.var() : {arr1.var()}\")\n",
    "\n",
    "display(f\"np.sum([1,1,2,3,4,5]) : {np.sum([1,1,2,3,4,5])}\")\n",
    "display(f\"np.array([1.1.2.3.4.5]).sum() : {np.array([1,1,2,3,4,5]).sum()}\")"
   ]
  },
  {
   "cell_type": "code",
   "execution_count": 76,
   "metadata": {},
   "outputs": [
    {
     "data": {
      "text/plain": [
       "array([[1, 2, 3],\n",
       "       [4, 5, 6],\n",
       "       [7, 8, 9]])"
      ]
     },
     "metadata": {},
     "output_type": "display_data"
    },
    {
     "data": {
      "text/plain": [
       "'np.sum(arr1) : 45'"
      ]
     },
     "metadata": {},
     "output_type": "display_data"
    },
    {
     "data": {
      "text/plain": [
       "'np.sum(arr1) : [ 6 15 24]'"
      ]
     },
     "metadata": {},
     "output_type": "display_data"
    },
    {
     "data": {
      "text/plain": [
       "'np.sum(arr1) : [12 15 18]'"
      ]
     },
     "metadata": {},
     "output_type": "display_data"
    }
   ],
   "source": [
    "arr1 = np.array([[1,2,3],[4,5,6],[7,8,9]])\n",
    "display(arr1)\n",
    "display(f\"np.sum(arr1) : {np.sum(arr1) }\")\n",
    "display(f\"np.sum(arr1) : {np.sum(arr1, axis=1)}\")\n",
    "display(f\"np.sum(arr1) : {np.sum(arr1, axis=0)}\")"
   ]
  },
  {
   "cell_type": "code",
   "execution_count": 79,
   "metadata": {},
   "outputs": [
    {
     "data": {
      "text/plain": [
       "array([2, 4, 6])"
      ]
     },
     "metadata": {},
     "output_type": "display_data"
    },
    {
     "data": {
      "text/plain": [
       "array([[11, 12, 13],\n",
       "       [21, 22, 23],\n",
       "       [31, 32, 33]])"
      ]
     },
     "metadata": {},
     "output_type": "display_data"
    },
    {
     "data": {
      "text/plain": [
       "array([6, 7, 8])"
      ]
     },
     "metadata": {},
     "output_type": "display_data"
    }
   ],
   "source": [
    "a = np.array([1,2,3])\n",
    "b = np.array([1,2,3])\n",
    "display(a+b)\n",
    "\n",
    "b = np.array([[10],\n",
    "              [20],\n",
    "              [30]])\n",
    "display(a+b)\n",
    "\n",
    "b = 5\n",
    "display(a+b)"
   ]
  },
  {
   "cell_type": "code",
   "execution_count": 88,
   "metadata": {},
   "outputs": [
    {
     "data": {
      "text/plain": [
       "'np.sqrt(arr) : [1. 2. 3. 4. 5.]'"
      ]
     },
     "metadata": {},
     "output_type": "display_data"
    },
    {
     "data": {
      "text/plain": [
       "'np.exp(arr) : [2.71828183e+00 5.45981500e+01 8.10308393e+03 8.88611052e+06\\n 7.20048993e+10]'"
      ]
     },
     "metadata": {},
     "output_type": "display_data"
    },
    {
     "data": {
      "text/plain": [
       "'np.log(arr) : [0.         1.38629436 2.19722458 2.77258872 3.21887582]'"
      ]
     },
     "metadata": {},
     "output_type": "display_data"
    },
    {
     "data": {
      "text/plain": [
       "'np.power(arr,2), [  1  16  81 256 625]'"
      ]
     },
     "metadata": {},
     "output_type": "display_data"
    },
    {
     "data": {
      "text/plain": [
       "'np.add(a,b) : [5 7 9]'"
      ]
     },
     "metadata": {},
     "output_type": "display_data"
    },
    {
     "data": {
      "text/plain": [
       "'np.subtract(a,b) : [-3 -3 -3]'"
      ]
     },
     "metadata": {},
     "output_type": "display_data"
    }
   ],
   "source": [
    "arr = np.array([1,4,9,16,25])\n",
    "display(f\"np.sqrt(arr) : {np.sqrt(arr)}\")\n",
    "display(f\"np.exp(arr) : {np.exp(arr)}\")\n",
    "display(f\"np.log(arr) : {np.log(arr)}\")\n",
    "display(f\"np.power(arr,2), {np.power(arr,2)}\")\n",
    "\n",
    "a = np.array([1,2,3])\n",
    "b = np.array([4,5,6])\n",
    "display(f\"np.add(a,b) : {np.add(a,b)}\")\n",
    "display(f\"np.subtract(a,b) : {np.subtract(a,b)}\")"
   ]
  }
 ],
 "metadata": {
  "kernelspec": {
   "display_name": "Python 3",
   "language": "python",
   "name": "python3"
  },
  "language_info": {
   "codemirror_mode": {
    "name": "ipython",
    "version": 3
   },
   "file_extension": ".py",
   "mimetype": "text/x-python",
   "name": "python",
   "nbconvert_exporter": "python",
   "pygments_lexer": "ipython3",
   "version": "3.11.5"
  }
 },
 "nbformat": 4,
 "nbformat_minor": 2
}
